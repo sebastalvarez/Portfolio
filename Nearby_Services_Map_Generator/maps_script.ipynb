{
 "cells": [
  {
   "cell_type": "markdown",
   "id": "0dc59620",
   "metadata": {},
   "source": [
    "This Python project aims to generate an interactive map based on a specific set of geographic coordinates (latitude and longitude). The main goal is to identify and visualize nearby essential services such as:\n",
    "\n",
    "Hospitals and clinics,Supermarkets,Train stations,Petrol stations and other relevant public services\n",
    "\n",
    "Using geolocation and mapping libraries, the program collects and displays these points of interest on a user-friendly map, helping users quickly locate key services around a chosen location."
   ]
  },
  {
   "cell_type": "code",
   "execution_count": 5,
   "id": "b3bae298",
   "metadata": {},
   "outputs": [],
   "source": [
    "from Nearby_Service_Map_Generator import *\n",
    "import pandas as pd"
   ]
  },
  {
   "cell_type": "code",
   "execution_count": 8,
   "id": "6277c200",
   "metadata": {},
   "outputs": [
    {
     "name": "stdout",
     "output_type": "stream",
     "text": [
      "Maps generated Maps_Av_Providencia_Santiago.html\n"
     ]
    }
   ],
   "source": [
    "try:\n",
    "    # set up coordinates \n",
    "    coords = input(\"Set up coordinates (lat, lon): \")\n",
    "    lat_str, lon_str = coords.split(\",\")\n",
    "    lat = float(lat_str.strip())\n",
    "    lon = float(lon_str.strip())\n",
    "\n",
    "    # ask for radium and address\n",
    "    radio = int(input(\"Set up radium in metres (ej: 1000): \"))\n",
    "    address = input(\"Set up address (ej: nuble): \")\n",
    "\n",
    "    # call py function\n",
    "    mapa = find_services(lat, lon, radio)\n",
    "\n",
    "    # save in pdf\n",
    "    mapa.save(f\"Maps_{address.replace(' ','_')}.html\")\n",
    "    print(f\"Maps generated Maps_{address.replace(' ','_')}.html\")\n",
    "\n",
    "except ValueError:\n",
    "    print(\"Error: Make sure to copy the coordinates from Google maps 'lat, lon' and radium must be int.\")\n"
   ]
  }
 ],
 "metadata": {
  "kernelspec": {
   "display_name": "base",
   "language": "python",
   "name": "python3"
  },
  "language_info": {
   "codemirror_mode": {
    "name": "ipython",
    "version": 3
   },
   "file_extension": ".py",
   "mimetype": "text/x-python",
   "name": "python",
   "nbconvert_exporter": "python",
   "pygments_lexer": "ipython3",
   "version": "3.11.7"
  }
 },
 "nbformat": 4,
 "nbformat_minor": 5
}
